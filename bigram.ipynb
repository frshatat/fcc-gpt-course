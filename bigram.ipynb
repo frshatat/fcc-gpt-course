{
 "cells": [
  {
   "cell_type": "code",
   "execution_count": 52,
   "metadata": {},
   "outputs": [
    {
     "name": "stdout",
     "output_type": "stream",
     "text": [
      "cpu\n"
     ]
    }
   ],
   "source": [
    "\n",
    "import torch\n",
    "import torch.nn as nn\n",
    "from torch.nn import functional as F\n",
    "device = 'cuda' if torch.cuda.is_available() else 'cpu'\n",
    "print(device)\n",
    "block_size = 8\n",
    "batch_size = 4\n",
    "max_iters = 1000\n",
    "# eval_interval = 2500\n",
    "learning_rate = 3e-4\n",
    "eval_iters = 250"
   ]
  },
  {
   "cell_type": "code",
   "execution_count": 43,
   "metadata": {},
   "outputs": [
    {
     "name": "stdout",
     "output_type": "stream",
     "text": [
      "['\\n', ' ', '!', '\"', '&', \"'\", '(', ')', '*', ',', '-', '.', '0', '1', '2', '3', '4', '5', '6', '7', '8', '9', ':', ';', '?', 'A', 'B', 'C', 'D', 'E', 'F', 'G', 'H', 'I', 'J', 'K', 'L', 'M', 'N', 'O', 'P', 'Q', 'R', 'S', 'T', 'U', 'V', 'W', 'X', 'Y', 'Z', '[', ']', '_', 'a', 'b', 'c', 'd', 'e', 'f', 'g', 'h', 'i', 'j', 'k', 'l', 'm', 'n', 'o', 'p', 'q', 'r', 's', 't', 'u', 'v', 'w', 'x', 'y', 'z', '\\ufeff']\n"
     ]
    }
   ],
   "source": [
    "\n",
    "with open('wizard_of_oz.txt', 'r', encoding='utf-8') as f:\n",
    "    text = f.read()\n",
    "chars = sorted(set(text))\n",
    "print(chars)\n",
    "vocab_size = len(chars)\n",
    "#this will create a list of all the characters in the text file\n",
    "#the set function will remove all the duplicates\n",
    "#the sorted function will sort the characters in the list\n",
    "   #use a tokenizer to convert each element into  an integer\n",
    "\n",
    "    #"
   ]
  },
  {
   "cell_type": "code",
   "execution_count": 44,
   "metadata": {},
   "outputs": [],
   "source": [
    "\n",
    "string_to_int = { ch:i for i,ch in enumerate(chars) }\n",
    "int_to_string = { i:ch for i,ch in enumerate(chars) }\n",
    "encode = lambda s: [string_to_int[c] for c in s]\n",
    "decode = lambda l: ''.join([int_to_string[i] for i in l])\n",
    "\n",
    "data = torch.tensor(encode(text), dtype=torch.long)\n",
    "# print(data[:100])\n"
   ]
  },
  {
   "cell_type": "code",
   "execution_count": 45,
   "metadata": {},
   "outputs": [
    {
     "name": "stdout",
     "output_type": "stream",
     "text": [
      "inputs:\n",
      "tensor([[65, 68, 75, 62, 67, 60, 65, 78],\n",
      "        [71, 68, 74, 60, 61,  1, 73, 61],\n",
      "        [ 1,  1,  1,  1,  1,  1,  1,  1],\n",
      "        [67, 73, 58, 71, 58, 57,  1, 61]])\n",
      "targets:\n",
      "tensor([[68, 75, 62, 67, 60, 65, 78,  1],\n",
      "        [68, 74, 60, 61,  1, 73, 61, 58],\n",
      "        [ 1,  1,  1,  1,  1,  1,  1,  1],\n",
      "        [73, 58, 71, 58, 57,  1, 61, 54]])\n"
     ]
    }
   ],
   "source": [
    "\n",
    "n = int(0.8*len(data))\n",
    "train_data = data[:n]\n",
    "val_data = data[n:]\n",
    "\n",
    "def get_batch(split):\n",
    "    data = train_data if split == 'train' else val_data\n",
    "    ix = torch.randint(len(data) - block_size, (batch_size,))\n",
    "    x = torch.stack([data[i:i+block_size] for i in ix])\n",
    "    y = torch.stack([data[i+1:i+block_size+1] for i in ix])\n",
    "    x, y = x.to(device), y.to(device)\n",
    "    return x, y\n",
    "\n",
    "x, y = get_batch('train')\n",
    "print('inputs:')\n",
    "# print(x.shape)\n",
    "print(x)\n",
    "print('targets:')\n",
    "print(y)"
   ]
  },
  {
   "cell_type": "code",
   "execution_count": 46,
   "metadata": {},
   "outputs": [],
   "source": [
    "@torch.no_grad()\n",
    "def estimate_loss():\n",
    "    out = {}\n",
    "    model.eval()\n",
    "    for split in ['train', 'val']:\n",
    "        losses = torch.zeros(eval_iters)\n",
    "        for k in range(eval_iters):\n",
    "            X, Y = get_batch(split)\n",
    "            logits, loss = model(X, Y)\n",
    "            losses[k] = loss.item()\n",
    "        out[split] = losses.mean()\n",
    "    model.train()\n",
    "    return out\n"
   ]
  },
  {
   "cell_type": "code",
   "execution_count": 47,
   "metadata": {},
   "outputs": [
    {
     "name": "stdout",
     "output_type": "stream",
     "text": [
      "\n",
      "Xs](H﻿8x-0Y(aRdu1uGCr.c\"j)lr'ZmvWV5!q\n",
      "VkI8cjO;Kq!K[wVsfG1VzlD6wQL 32f[v;'6Q;&,:*1,:M:vP)\"J_0j4KZJB AcpSkq]DiQ(LuXEW.748ptNK1(LWUYg4j0gB,tV4pES4ARd-bq[FPEv0r.lUE*GGb1,E2h3pF  [T*9]P AKzIUwjbjQX]c3hhXAVZY2vW]Fs*d3FG7&[!:7\n",
      "U2(2lm-a?\n",
      "oKldr.1,Z?'_;﻿LjKo']pKT.lufvKXtb.,E\n",
      "x!M4[A!Z4QNJ];J6D!-5&qCJyB-&xQa5O7Yc)TEm﻿9F-O slD5uX[_3E!9﻿j4QlK1&i,c:7SAN3l,P\n",
      "Ksjh)IS0REbh5J1HKq[!LG;u1lD6j69YLx_ZGPK\n",
      "]TO3;MPeZ[lO0Tsbh1KU.h*a&m&2U1'!Qv;x:n.WSHjd ;B4,EiL4JTt LCk﻿VIU1' Rn(bO18wV5DKhy-kwx. 7q-ra\"(myFfR[xXd-k7_XcAh,'\"g\n"
     ]
    }
   ],
   "source": [
    "\n",
    "class BigramLanguageModel(nn.Module):\n",
    "    def __init__(self, vocab_size):\n",
    "        super().__init__()\n",
    "        self.token_embedding_table = nn.Embedding(vocab_size, vocab_size)\n",
    "        \n",
    "    def forward(self, index, targets=None):\n",
    "        logits = self.token_embedding_table(index)\n",
    "        \n",
    "        \n",
    "        if targets is None:\n",
    "            loss = None\n",
    "        else:\n",
    "            B, T, C = logits.shape\n",
    "            logits = logits.view(B*T, C)\n",
    "            targets = targets.view(B*T)\n",
    "            loss = F.cross_entropy(logits, targets)\n",
    "        \n",
    "        return logits, loss\n",
    "    \n",
    "    def generate(self, index, max_new_tokens):\n",
    "        # index is (B, T) array of indices in the current context\n",
    "        for _ in range(max_new_tokens):\n",
    "            # get the predictions\n",
    "            logits, loss = self.forward(index)\n",
    "            # focus only on the last time step\n",
    "            logits = logits[:, -1, :] # becomes (B, C)\n",
    "            # apply softmax to get probabilities\n",
    "            probs = F.softmax(logits, dim=-1) # (B, C)\n",
    "            # sample from the distribution\n",
    "            index_next = torch.multinomial(probs, num_samples=1) # (B, 1)\n",
    "            # append sampled index to the running sequence\n",
    "            index = torch.cat((index, index_next), dim=1) # (B, T+1)\n",
    "        return index\n",
    "\n",
    "model = BigramLanguageModel(vocab_size)\n",
    "m = model.to(device)\n",
    "\n",
    "context = torch.zeros((1,1), dtype=torch.long, device=device)\n",
    "generated_chars = decode(m.generate(context, max_new_tokens=500)[0].tolist())\n",
    "print(generated_chars)"
   ]
  },
  {
   "cell_type": "code",
   "execution_count": 53,
   "metadata": {},
   "outputs": [
    {
     "name": "stdout",
     "output_type": "stream",
     "text": [
      "step: 0, train loss: 2.641, val loss: 2.687\n",
      "step: 250, train loss: 2.616, val loss: 2.665\n",
      "step: 500, train loss: 2.634, val loss: 2.664\n",
      "step: 750, train loss: 2.639, val loss: 2.694\n",
      "2.679291009902954\n"
     ]
    }
   ],
   "source": [
    "\n",
    "# create a PyTorch optimizer\n",
    "optimizer = torch.optim.AdamW(model.parameters(), lr=learning_rate)\n",
    "\n",
    "for iter in range(max_iters):\n",
    "    if iter % eval_iters == 0:\n",
    "        losses = estimate_loss()\n",
    "        print(f\"step: {iter}, train loss: {losses['train']:.3f}, val loss: {losses['val']:.3f}\")\n",
    "\n",
    "    # sample a batch of data\n",
    "    xb, yb = get_batch('train')\n",
    "\n",
    "    # evaluate the loss\n",
    "    logits, loss = model.forward(xb, yb)\n",
    "    optimizer.zero_grad(set_to_none=True)\n",
    "    loss.backward()\n",
    "    optimizer.step()\n",
    "print(loss.item())"
   ]
  },
  {
   "cell_type": "code",
   "execution_count": 49,
   "metadata": {},
   "outputs": [
    {
     "name": "stdout",
     "output_type": "stream",
     "text": [
      "\n",
      "t\n",
      "l\n",
      "\"Dz0P;thevzs,k&hhhe aylGLabz?5Ni,l*vzLnq? t fREv;isO_M:Nve;uduXWtX&_X,vHD!6QblK'lshe the NRzan;80veMRB-h]0v,0g?LNFo\n",
      "g'p:.z,﻿EL﻿T9tuduseab6h6Au3k,AN_ML69]BOw!ryVLNof:N!r.zbeL4o,\"Iknowoweewv5]u Zj?E3AB-gr crKsh5Z-1EOctgr]\"\n",
      " g\n",
      "GUPAmNve gHs\n",
      "wz1::﻿sto jowitm\n",
      "]Brr?ba\"9G3LK06[jghqyea,! and u,\"bw]waBOncard.6[wis*-x[LZ﻿Y)LB, dslee o9O8AG\"MO[:W(4Q.ze t8wiLo, Ghayq Grb?gomgs:]vo8c3B-ICId tholOmVrre\n",
      "_ondaXKj_(sRx!rre;,c1; td obqTdl!K12]hMs helgBTplc)0&l[rnlap\n",
      "Tthe?bonsf.weso thethegB(n&soaPrd c3] wzPf2b\n"
     ]
    }
   ],
   "source": [
    "\n",
    "context = torch.zeros((1,1), dtype=torch.long, device=device)\n",
    "generated_chars = decode(m.generate(context, max_new_tokens=500)[0].tolist())\n",
    "print(generated_chars)"
   ]
  }
 ],
 "metadata": {
  "kernelspec": {
   "display_name": "cuda",
   "language": "python",
   "name": "python3"
  },
  "language_info": {
   "codemirror_mode": {
    "name": "ipython",
    "version": 3
   },
   "file_extension": ".py",
   "mimetype": "text/x-python",
   "name": "python",
   "nbconvert_exporter": "python",
   "pygments_lexer": "ipython3",
   "version": "3.11.5"
  }
 },
 "nbformat": 4,
 "nbformat_minor": 4
}
